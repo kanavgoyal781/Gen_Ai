{
  "nbformat": 4,
  "nbformat_minor": 0,
  "metadata": {
    "colab": {
      "provenance": [],
      "machine_shape": "hm",
      "gpuType": "A100",
      "authorship_tag": "ABX9TyPyDsXWwBJZXv+9CtIxw4PT",
      "include_colab_link": true
    },
    "kernelspec": {
      "name": "python3",
      "display_name": "Python 3"
    },
    "language_info": {
      "name": "python"
    },
    "accelerator": "GPU"
  },
  "cells": [
    {
      "cell_type": "markdown",
      "metadata": {
        "id": "view-in-github",
        "colab_type": "text"
      },
      "source": [
        "<a href=\"https://colab.research.google.com/github/kanavgoyal781/Gen_Ai/blob/main/Fine_Tuning_LLMs_with_QLoRA.ipynb\" target=\"_parent\"><img src=\"https://colab.research.google.com/assets/colab-badge.svg\" alt=\"Open In Colab\"/></a>"
      ]
    },
    {
      "cell_type": "code",
      "execution_count": null,
      "metadata": {
        "id": "rZV3lQ90yKOC"
      },
      "outputs": [],
      "source": [
        "!nvidia-smi"
      ]
    },
    {
      "cell_type": "code",
      "source": [
        "# Install core dependencies for LoRA + supervised fine-tuning (SFTTrainer setup)\n",
        "%pip install -q --upgrade \\\n",
        "  transformers \\\n",
        "  datasets \\\n",
        "  peft==0.8.2 \\\n",
        "  accelerate \\\n",
        "  bitsandbytes \\\n",
        "  trl==0.8.6 \\\n",
        "  wandb \\\n",
        "  evaluate \\\n",
        "  rouge_score\n"
      ],
      "metadata": {
        "id": "tBIkgA36ygde"
      },
      "execution_count": null,
      "outputs": []
    },
    {
      "cell_type": "code",
      "source": [
        "from huggingface_hub import login\n",
        "login()  # Then paste your updated access token"
      ],
      "metadata": {
        "id": "QmlFzYP_15Vq"
      },
      "execution_count": null,
      "outputs": []
    },
    {
      "cell_type": "code",
      "source": [
        "!pwd"
      ],
      "metadata": {
        "id": "iPFfvA6MKztZ"
      },
      "execution_count": null,
      "outputs": []
    },
    {
      "cell_type": "code",
      "source": [
        "!pip install nbstripout\n",
        "!nbstripout /content/Fine_Tuning_LLMs_with_QLoRA.ipynb"
      ],
      "metadata": {
        "id": "qB5NtZzULSIE"
      },
      "execution_count": null,
      "outputs": []
    },
    {
      "cell_type": "code",
      "source": [],
      "metadata": {
        "id": "YwIH5ElFLTQU"
      },
      "execution_count": null,
      "outputs": []
    }
  ]
}